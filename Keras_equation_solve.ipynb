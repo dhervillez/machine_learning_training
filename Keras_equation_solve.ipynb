{
 "cells": [
  {
   "cell_type": "code",
   "execution_count": 1,
   "metadata": {},
   "outputs": [],
   "source": [
    "import pandas as pd\n",
    "import numpy as np\n",
    "import matplotlib.pyplot as plt\n",
    "%matplotlib inline\n",
    "%load_ext tensorboard"
   ]
  },
  {
   "cell_type": "code",
   "execution_count": 2,
   "metadata": {},
   "outputs": [
    {
     "name": "stdout",
     "output_type": "stream",
     "text": [
      "2.2.0\n"
     ]
    }
   ],
   "source": [
    "import tensorflow as tf\n",
    "\n",
    "from tensorflow import keras\n",
    "from tensorflow.keras import layers\n",
    "from tensorflow.keras import initializers\n",
    "from tensorflow.keras import regularizers\n",
    "from tensorflow.keras import optimizers\n",
    "\n",
    "print(tf.__version__)"
   ]
  },
  {
   "cell_type": "code",
   "execution_count": 3,
   "metadata": {},
   "outputs": [],
   "source": [
    "import tensorflow_docs as tfdocs\n",
    "import tensorflow_docs.plots\n",
    "import tensorflow_docs.modeling"
   ]
  },
  {
   "cell_type": "code",
   "execution_count": 55,
   "metadata": {},
   "outputs": [
    {
     "data": {
      "text/plain": [
       "31.622776601683793"
      ]
     },
     "execution_count": 55,
     "metadata": {},
     "output_type": "execute_result"
    }
   ],
   "source": [
    "10.**1.5"
   ]
  },
  {
   "cell_type": "code",
   "execution_count": 95,
   "metadata": {},
   "outputs": [
    {
     "data": {
      "text/plain": [
       "[<matplotlib.lines.Line2D at 0x6426a5f28>]"
      ]
     },
     "execution_count": 95,
     "metadata": {},
     "output_type": "execute_result"
    },
    {
     "data": {
      "image/png": "[encoded data removed]",
      "text/plain": [
       "<Figure size 432x288 with 1 Axes>"
      ]
     },
     "metadata": {
      "needs_background": "light"
     },
     "output_type": "display_data"
    }
   ],
   "source": [
    "n=1.5\n",
    "X=np.arange(1.,100.)\n",
    "const=np.ones(len(X))\n",
    "y=X**n\n",
    "plt.plot(X,y)"
   ]
  },
  {
   "cell_type": "code",
   "execution_count": 110,
   "metadata": {},
   "outputs": [],
   "source": [
    "from sklearn.preprocessing import StandardScaler\n",
    "scaler = StandardScaler()\n",
    "X_scaled = scaler.fit_transform(X.reshape(1,-1))"
   ]
  },
  {
   "cell_type": "code",
   "execution_count": 152,
   "metadata": {},
   "outputs": [],
   "source": [
    "inputs1 = keras.Input(shape=(1,))\n",
    "inputs2 = keras.Input(shape=(1,))\n",
    "initializer = tf.keras.initializers.RandomNormal(mean=0., stddev=1.)\n",
    "power = layers.Dense(16)(inputs2) #kernel_initializer=initializer\n",
    "initializer = tf.keras.initializers.RandomNormal(mean=n, stddev=n/2)\n",
    "power = layers.Dense(1, kernel_initializer=initializer, use_bias=False)(power)\n",
    "outputs = tf.pow(inputs1, power)"
   ]
  },
  {
   "cell_type": "code",
   "execution_count": 153,
   "metadata": {},
   "outputs": [],
   "source": [
    "model = keras.Model(inputs=[inputs1, inputs2], outputs=outputs)"
   ]
  },
  {
   "cell_type": "code",
   "execution_count": 154,
   "metadata": {},
   "outputs": [
    {
     "name": "stdout",
     "output_type": "stream",
     "text": [
      "Model: \"model_10\"\n",
      "__________________________________________________________________________________________________\n",
      "Layer (type)                    Output Shape         Param #     Connected to                     \n",
      "==================================================================================================\n",
      "input_22 (InputLayer)           [(None, 1)]          0                                            \n",
      "__________________________________________________________________________________________________\n",
      "dense_20 (Dense)                (None, 16)           32          input_22[0][0]                   \n",
      "__________________________________________________________________________________________________\n",
      "input_21 (InputLayer)           [(None, 1)]          0                                            \n",
      "__________________________________________________________________________________________________\n",
      "dense_21 (Dense)                (None, 1)            16          dense_20[0][0]                   \n",
      "__________________________________________________________________________________________________\n",
      "tf_op_layer_Pow_10 (TensorFlowO [(None, 1)]          0           input_21[0][0]                   \n",
      "                                                                 dense_21[0][0]                   \n",
      "==================================================================================================\n",
      "Total params: 48\n",
      "Trainable params: 48\n",
      "Non-trainable params: 0\n",
      "__________________________________________________________________________________________________\n"
     ]
    }
   ],
   "source": [
    "model.summary()"
   ]
  },
  {
   "cell_type": "code",
   "execution_count": 155,
   "metadata": {},
   "outputs": [],
   "source": [
    "model.compile(\n",
    "    loss=\"mse\",\n",
    "    optimizer=keras.optimizers.SGD(1e-5)\n",
    ")"
   ]
  },
  {
   "cell_type": "code",
   "execution_count": 156,
   "metadata": {},
   "outputs": [
    {
     "name": "stdout",
     "output_type": "stream",
     "text": [
      "Epoch 1/100\n",
      "1/1 [==============================] - 0s 1ms/step - loss: 247500.0000\n",
      "Epoch 2/100\n",
      "1/1 [==============================] - 0s 1ms/step - loss: 247500.0000\n",
      "Epoch 3/100\n",
      "1/1 [==============================] - 0s 1ms/step - loss: 247500.0000\n",
      "Epoch 4/100\n",
      "1/1 [==============================] - 0s 990us/step - loss: 247500.0000\n",
      "Epoch 5/100\n",
      "1/1 [==============================] - 0s 1ms/step - loss: 247500.0000\n",
      "Epoch 6/100\n",
      "1/1 [==============================] - 0s 1ms/step - loss: 247500.0000\n",
      "Epoch 7/100\n",
      "1/1 [==============================] - 0s 1ms/step - loss: 247500.0000\n",
      "Epoch 8/100\n",
      "1/1 [==============================] - 0s 1ms/step - loss: 247500.0000\n",
      "Epoch 9/100\n",
      "1/1 [==============================] - 0s 2ms/step - loss: 247500.0000\n",
      "Epoch 10/100\n",
      "1/1 [==============================] - 0s 1ms/step - loss: 247500.0000\n",
      "Epoch 11/100\n",
      "1/1 [==============================] - 0s 1ms/step - loss: 247500.0000\n",
      "Epoch 12/100\n",
      "1/1 [==============================] - 0s 1ms/step - loss: 247500.0156\n",
      "Epoch 13/100\n",
      "1/1 [==============================] - 0s 1ms/step - loss: 247500.0000\n",
      "Epoch 14/100\n",
      "1/1 [==============================] - 0s 1ms/step - loss: 247500.0000\n",
      "Epoch 15/100\n",
      "1/1 [==============================] - 0s 1ms/step - loss: 247500.0000\n",
      "Epoch 16/100\n",
      "1/1 [==============================] - 0s 2ms/step - loss: 247500.0000\n",
      "Epoch 17/100\n",
      "1/1 [==============================] - 0s 1ms/step - loss: 247500.0000\n",
      "Epoch 18/100\n",
      "1/1 [==============================] - 0s 1ms/step - loss: 247500.0000\n",
      "Epoch 19/100\n",
      "1/1 [==============================] - 0s 954us/step - loss: 247500.0000\n",
      "Epoch 20/100\n",
      "1/1 [==============================] - 0s 1ms/step - loss: 247500.0000\n",
      "Epoch 21/100\n",
      "1/1 [==============================] - 0s 1ms/step - loss: 247500.0000\n",
      "Epoch 22/100\n",
      "1/1 [==============================] - 0s 1ms/step - loss: 247500.0000\n",
      "Epoch 23/100\n",
      "1/1 [==============================] - 0s 1ms/step - loss: 247500.0000\n",
      "Epoch 24/100\n",
      "1/1 [==============================] - 0s 1ms/step - loss: 247500.0000\n",
      "Epoch 25/100\n",
      "1/1 [==============================] - 0s 2ms/step - loss: 247500.0000\n",
      "Epoch 26/100\n",
      "1/1 [==============================] - 0s 1ms/step - loss: 247500.0000\n",
      "Epoch 27/100\n",
      "1/1 [==============================] - 0s 1ms/step - loss: 247500.0000\n",
      "Epoch 28/100\n",
      "1/1 [==============================] - 0s 1ms/step - loss: 247500.0000\n",
      "Epoch 29/100\n",
      "1/1 [==============================] - 0s 1ms/step - loss: 247500.0000\n",
      "Epoch 30/100\n",
      "1/1 [==============================] - 0s 965us/step - loss: 247500.0000\n",
      "Epoch 31/100\n",
      "1/1 [==============================] - 0s 1ms/step - loss: 247500.0000\n",
      "Epoch 32/100\n",
      "1/1 [==============================] - 0s 1ms/step - loss: 247500.0000\n",
      "Epoch 33/100\n",
      "1/1 [==============================] - 0s 1ms/step - loss: 247500.0000\n",
      "Epoch 34/100\n",
      "1/1 [==============================] - 0s 1ms/step - loss: 247500.0000\n",
      "Epoch 35/100\n",
      "1/1 [==============================] - 0s 1ms/step - loss: 247500.0000\n",
      "Epoch 36/100\n",
      "1/1 [==============================] - 0s 2ms/step - loss: 247500.0000\n",
      "Epoch 37/100\n",
      "1/1 [==============================] - 0s 1ms/step - loss: 247500.0000\n",
      "Epoch 38/100\n",
      "1/1 [==============================] - 0s 1ms/step - loss: 247500.0000\n",
      "Epoch 39/100\n",
      "1/1 [==============================] - 0s 1ms/step - loss: 247500.0000\n",
      "Epoch 40/100\n",
      "1/1 [==============================] - 0s 1ms/step - loss: 247500.0000\n",
      "Epoch 41/100\n",
      "1/1 [==============================] - 0s 1ms/step - loss: 247500.0000\n",
      "Epoch 42/100\n",
      "1/1 [==============================] - 0s 982us/step - loss: 247500.0000\n",
      "Epoch 43/100\n",
      "1/1 [==============================] - 0s 1ms/step - loss: 247500.0000\n",
      "Epoch 44/100\n",
      "1/1 [==============================] - 0s 1ms/step - loss: 247500.0000\n",
      "Epoch 45/100\n",
      "1/1 [==============================] - 0s 1ms/step - loss: 247500.0000\n",
      "Epoch 46/100\n",
      "1/1 [==============================] - 0s 1ms/step - loss: 247500.0000\n",
      "Epoch 47/100\n",
      "1/1 [==============================] - 0s 1ms/step - loss: 247500.0000\n",
      "Epoch 48/100\n",
      "1/1 [==============================] - 0s 1ms/step - loss: 247500.0000\n",
      "Epoch 49/100\n",
      "1/1 [==============================] - 0s 1ms/step - loss: 247500.0000\n",
      "Epoch 50/100\n",
      "1/1 [==============================] - 0s 1ms/step - loss: 247500.0000\n",
      "Epoch 51/100\n",
      "1/1 [==============================] - 0s 1ms/step - loss: 247500.0000\n",
      "Epoch 52/100\n",
      "1/1 [==============================] - ETA: 0s - loss: 247500.00 - 0s 1ms/step - loss: 247500.0000\n",
      "Epoch 53/100\n",
      "1/1 [==============================] - 0s 1ms/step - loss: 247500.0000\n",
      "Epoch 54/100\n",
      "1/1 [==============================] - 0s 1ms/step - loss: 247500.0000\n",
      "Epoch 55/100\n",
      "1/1 [==============================] - 0s 1ms/step - loss: 247500.0000\n",
      "Epoch 56/100\n",
      "1/1 [==============================] - 0s 1ms/step - loss: 247500.0000\n",
      "Epoch 57/100\n",
      "1/1 [==============================] - 0s 1ms/step - loss: 247500.0000\n",
      "Epoch 58/100\n",
      "1/1 [==============================] - 0s 1ms/step - loss: 247500.0000\n",
      "Epoch 59/100\n",
      "1/1 [==============================] - 0s 1ms/step - loss: 247500.0000\n",
      "Epoch 60/100\n",
      "1/1 [==============================] - 0s 1ms/step - loss: 247500.0000\n",
      "Epoch 61/100\n",
      "1/1 [==============================] - 0s 1ms/step - loss: 247500.0000\n",
      "Epoch 62/100\n",
      "1/1 [==============================] - 0s 2ms/step - loss: 247500.0000\n",
      "Epoch 63/100\n",
      "1/1 [==============================] - 0s 1ms/step - loss: 247500.0000\n",
      "Epoch 64/100\n",
      "1/1 [==============================] - 0s 1ms/step - loss: 247500.0000\n",
      "Epoch 65/100\n",
      "1/1 [==============================] - 0s 1ms/step - loss: 247500.0000\n",
      "Epoch 66/100\n",
      "1/1 [==============================] - 0s 2ms/step - loss: 247500.0000\n",
      "Epoch 67/100\n",
      "1/1 [==============================] - 0s 1ms/step - loss: 247500.0000\n",
      "Epoch 68/100\n",
      "1/1 [==============================] - 0s 950us/step - loss: 247500.0000\n",
      "Epoch 69/100\n",
      "1/1 [==============================] - 0s 1ms/step - loss: 247500.0000\n",
      "Epoch 70/100\n",
      "1/1 [==============================] - 0s 1ms/step - loss: 247500.0000\n",
      "Epoch 71/100\n",
      "1/1 [==============================] - 0s 1ms/step - loss: 247500.0000\n",
      "Epoch 72/100\n",
      "1/1 [==============================] - 0s 2ms/step - loss: 247500.0000\n",
      "Epoch 73/100\n",
      "1/1 [==============================] - 0s 1ms/step - loss: 247500.0000\n",
      "Epoch 74/100\n",
      "1/1 [==============================] - 0s 2ms/step - loss: 247500.0000\n",
      "Epoch 75/100\n",
      "1/1 [==============================] - 0s 1ms/step - loss: 247500.0000\n",
      "Epoch 76/100\n",
      "1/1 [==============================] - 0s 1ms/step - loss: 247500.0000\n",
      "Epoch 77/100\n",
      "1/1 [==============================] - 0s 2ms/step - loss: 247500.0000\n",
      "Epoch 78/100\n",
      "1/1 [==============================] - 0s 1ms/step - loss: 247500.0000\n",
      "Epoch 79/100\n",
      "1/1 [==============================] - 0s 1ms/step - loss: 247500.0000\n",
      "Epoch 80/100\n",
      "1/1 [==============================] - 0s 1ms/step - loss: 247500.0000\n",
      "Epoch 81/100\n",
      "1/1 [==============================] - ETA: 0s - loss: 247500.00 - 0s 1ms/step - loss: 247500.0000\n",
      "Epoch 82/100\n",
      "1/1 [==============================] - 0s 1ms/step - loss: 247499.9844\n",
      "Epoch 83/100\n",
      "1/1 [==============================] - 0s 1ms/step - loss: 247500.0000\n",
      "Epoch 84/100\n",
      "1/1 [==============================] - 0s 1ms/step - loss: 247500.0000\n",
      "Epoch 85/100\n",
      "1/1 [==============================] - 0s 1ms/step - loss: 247500.0000\n",
      "Epoch 86/100\n",
      "1/1 [==============================] - 0s 2ms/step - loss: 247500.0000\n",
      "Epoch 87/100\n",
      "1/1 [==============================] - 0s 2ms/step - loss: 247500.0000\n",
      "Epoch 88/100\n",
      "1/1 [==============================] - 0s 1ms/step - loss: 247500.0000\n",
      "Epoch 89/100\n",
      "1/1 [==============================] - 0s 1ms/step - loss: 247500.0000\n",
      "Epoch 90/100\n",
      "1/1 [==============================] - 0s 1ms/step - loss: 247500.0000\n",
      "Epoch 91/100\n",
      "1/1 [==============================] - 0s 2ms/step - loss: 247500.0000\n",
      "Epoch 92/100\n",
      "1/1 [==============================] - 0s 899us/step - loss: 247500.0000\n",
      "Epoch 93/100\n",
      "1/1 [==============================] - 0s 1ms/step - loss: 247500.0000\n",
      "Epoch 94/100\n",
      "1/1 [==============================] - 0s 1ms/step - loss: 247500.0000\n",
      "Epoch 95/100\n",
      "1/1 [==============================] - 0s 979us/step - loss: 247500.0000\n",
      "Epoch 96/100\n",
      "1/1 [==============================] - 0s 1ms/step - loss: 247500.0000\n",
      "Epoch 97/100\n"
     ]
    },
    {
     "name": "stdout",
     "output_type": "stream",
     "text": [
      "1/1 [==============================] - 0s 2ms/step - loss: 247500.0000\n",
      "Epoch 98/100\n",
      "1/1 [==============================] - 0s 1ms/step - loss: 247500.0000\n",
      "Epoch 99/100\n",
      "1/1 [==============================] - 0s 966us/step - loss: 247500.0000\n",
      "Epoch 100/100\n",
      "1/1 [==============================] - 0s 1ms/step - loss: 247500.0000\n"
     ]
    },
    {
     "data": {
      "text/plain": [
       "<tensorflow.python.keras.callbacks.History at 0x194488c550>"
      ]
     },
     "execution_count": 156,
     "metadata": {},
     "output_type": "execute_result"
    }
   ],
   "source": [
    "model.fit([X_scaled[0],const], y, batch_size=100, epochs=100)"
   ]
  },
  {
   "cell_type": "code",
   "execution_count": 157,
   "metadata": {},
   "outputs": [],
   "source": [
    "out = model.predict([X,const])"
   ]
  },
  {
   "cell_type": "code",
   "execution_count": 158,
   "metadata": {},
   "outputs": [
    {
     "data": {
      "text/plain": [
       "array([1.00000000e+00, 6.40518904e+00, 1.89811668e+01, 4.10264473e+01,\n",
       "       7.45949173e+01, 1.21577965e+02, 1.83747513e+02, 2.62782166e+02,\n",
       "       3.60284698e+02, 4.77794525e+02, 6.16796875e+02, 7.78729858e+02,\n",
       "       9.64990173e+02, 1.17693762e+03, 1.41589856e+03, 1.68316943e+03,\n",
       "       1.98001929e+03, 2.30769165e+03, 2.66740723e+03, 3.06036450e+03,\n",
       "       3.48774219e+03, 3.95070068e+03, 4.45038184e+03, 4.98791211e+03,\n",
       "       5.56440137e+03, 6.18094482e+03, 6.83862402e+03, 7.53850781e+03,\n",
       "       8.28165137e+03, 9.06909766e+03, 9.90187988e+03, 1.07810186e+04,\n",
       "       1.17075244e+04, 1.26823984e+04, 1.37066299e+04, 1.47812021e+04,\n",
       "       1.59070859e+04, 1.70852480e+04, 1.83166406e+04, 1.96022129e+04,\n",
       "       2.09429043e+04, 2.23396484e+04, 2.37933691e+04, 2.53049844e+04,\n",
       "       2.68754062e+04, 2.85055391e+04, 3.01962793e+04, 3.19485215e+04,\n",
       "       3.37631484e+04, 3.56410430e+04, 3.75830781e+04, 3.95901211e+04,\n",
       "       4.16630352e+04, 4.38026836e+04, 4.60099102e+04, 4.82855703e+04,\n",
       "       5.06305000e+04, 5.30455430e+04, 5.55315312e+04, 5.80892891e+04,\n",
       "       6.07196445e+04, 6.34234141e+04, 6.62014219e+04, 6.90544688e+04,\n",
       "       7.19833594e+04, 7.49889062e+04, 7.80719141e+04, 8.12331562e+04,\n",
       "       8.44734453e+04, 8.77935547e+04, 9.11942812e+04, 9.46763906e+04,\n",
       "       9.82406719e+04, 1.01887898e+05, 1.05618828e+05, 1.09434242e+05,\n",
       "       1.13334891e+05, 1.17321547e+05, 1.21394961e+05, 1.25555883e+05,\n",
       "       1.29805070e+05, 1.34143266e+05, 1.38571219e+05, 1.43089672e+05,\n",
       "       1.47699375e+05, 1.52401031e+05, 1.57195406e+05, 1.62083219e+05,\n",
       "       1.67065188e+05, 1.72142062e+05, 1.77314547e+05, 1.82583375e+05,\n",
       "       1.87949234e+05, 1.93412891e+05, 1.98975000e+05, 2.04636328e+05,\n",
       "       2.10397531e+05, 2.16259359e+05, 2.22222484e+05], dtype=float32)"
      ]
     },
     "execution_count": 158,
     "metadata": {},
     "output_type": "execute_result"
    }
   ],
   "source": [
    "out[:,0]"
   ]
  },
  {
   "cell_type": "code",
   "execution_count": 159,
   "metadata": {},
   "outputs": [
    {
     "data": {
      "text/plain": [
       "array([0.00000000e+00, 3.57676191e+00, 1.37850144e+01, 3.30264473e+01,\n",
       "       6.34145774e+01, 1.06881026e+02, 1.65227254e+02, 2.40154749e+02,\n",
       "       3.33284698e+02, 4.46171749e+02, 5.80314002e+02, 7.37160639e+02,\n",
       "       9.18118007e+02, 1.12455442e+03, 1.35780381e+03, 1.61916943e+03,\n",
       "       1.90992649e+03, 2.23132412e+03, 2.58458815e+03, 2.97092178e+03,\n",
       "       3.39150810e+03, 3.84751154e+03, 4.34007771e+03, 4.87033660e+03,\n",
       "       5.43940137e+03, 6.04837032e+03, 6.69832791e+03, 7.39034574e+03,\n",
       "       8.12548159e+03, 8.90478089e+03, 9.72927919e+03, 1.05999992e+04,\n",
       "       1.15179538e+04, 1.24841461e+04, 1.34995671e+04, 1.45652021e+04,\n",
       "       1.56820237e+04, 1.68510003e+04, 1.80730857e+04, 1.93492307e+04,\n",
       "       2.06803762e+04, 2.20674573e+04, 2.35113993e+04, 2.50131214e+04,\n",
       "       2.65735371e+04, 2.81935519e+04, 2.98740635e+04, 3.16159677e+04,\n",
       "       3.34201484e+04, 3.52874896e+04, 3.72188653e+04, 3.92151438e+04,\n",
       "       4.12771893e+04, 4.34058663e+04, 4.56020192e+04, 4.78665047e+04,\n",
       "       5.02001594e+04, 5.26038281e+04, 5.50783437e+04, 5.76245311e+04,\n",
       "       6.02432193e+04, 6.29352256e+04, 6.57013749e+04, 6.85424688e+04,\n",
       "       7.14593126e+04, 7.44527197e+04, 7.75234954e+04, 8.06724139e+04,\n",
       "       8.39002883e+04, 8.72078927e+04, 9.05960246e+04, 9.40654504e+04,\n",
       "       9.76169596e+04, 1.01251326e+05, 1.04969309e+05, 1.08771690e+05,\n",
       "       1.12659218e+05, 1.16632670e+05, 1.20692794e+05, 1.24840341e+05,\n",
       "       1.29076070e+05, 1.33400724e+05, 1.37815053e+05, 1.42319799e+05,\n",
       "       1.46915714e+05, 1.51603500e+05, 1.56383924e+05, 1.61257706e+05,\n",
       "       1.66225563e+05, 1.71288248e+05, 1.76446462e+05, 1.81700942e+05,\n",
       "       1.87052375e+05, 1.92501527e+05, 1.98049055e+05, 2.03695724e+05,\n",
       "       2.09442192e+05, 2.15289209e+05, 2.21237447e+05])"
      ]
     },
     "execution_count": 159,
     "metadata": {},
     "output_type": "execute_result"
    }
   ],
   "source": [
    "out[:,0] - y"
   ]
  },
  {
   "cell_type": "code",
   "execution_count": 160,
   "metadata": {},
   "outputs": [
    {
     "data": {
      "text/plain": [
       "array([  1.        ,   2.82842712,   5.19615242,   8.        ,\n",
       "        11.18033989,  14.69693846,  18.52025918,  22.627417  ,\n",
       "        27.        ,  31.6227766 ,  36.48287269,  41.56921938,\n",
       "        46.87216658,  52.38320341,  58.09475019,  64.        ,\n",
       "        70.09279564,  76.36753237,  82.81907993,  89.4427191 ,\n",
       "        96.23408959, 103.18914672, 110.30412504, 117.57550765,\n",
       "       125.        , 132.57450735, 140.29611541, 148.16207342,\n",
       "       156.16977941, 164.31676725, 172.60069525, 181.01933598,\n",
       "       189.57056734, 198.25236442, 207.06279241, 216.        ,\n",
       "       225.06221362, 234.24773211, 243.55492194, 252.98221281,\n",
       "       262.52809373, 272.19110933, 281.96985654, 291.86298155,\n",
       "       301.86917696, 311.98717922, 322.21576622, 332.55375505,\n",
       "       343.        , 353.55339059, 364.21284986, 374.97733265,\n",
       "       385.84582413, 396.81733833, 407.89091679, 419.06562732,\n",
       "       430.34056281, 441.71484014, 453.18759912, 464.75800154,\n",
       "       476.42523023, 488.18848819, 500.04699779, 512.        ,\n",
       "       524.04675364, 536.18653471, 548.41863572, 560.74236508,\n",
       "       573.15704654, 585.66201857, 598.2566339 , 610.94025895,\n",
       "       623.71227341, 636.57206976, 649.51905284, 662.55263942,\n",
       "       675.67225783, 688.87734757, 702.16735897, 715.5417528 ,\n",
       "       729.        , 742.54158133, 756.16598707, 769.87271675,\n",
       "       783.66127887, 797.53119061, 811.48197762, 825.51317373,\n",
       "       839.62432075, 853.81496825, 868.08467329, 882.43300029,\n",
       "       896.85952077, 911.36381319, 925.94546276, 940.60406123,\n",
       "       955.33920677, 970.15050379, 985.03756274])"
      ]
     },
     "execution_count": 160,
     "metadata": {},
     "output_type": "execute_result"
    }
   ],
   "source": [
    "y"
   ]
  },
  {
   "cell_type": "code",
   "execution_count": null,
   "metadata": {},
   "outputs": [],
   "source": []
  },
  {
   "cell_type": "code",
   "execution_count": null,
   "metadata": {},
   "outputs": [],
   "source": []
  }
 ],
 "metadata": {
  "kernelspec": {
   "display_name": "Python 3",
   "language": "python",
   "name": "python3"
  },
  "language_info": {
   "codemirror_mode": {
    "name": "ipython",
    "version": 3
   },
   "file_extension": ".py",
   "mimetype": "text/x-python",
   "name": "python",
   "nbconvert_exporter": "python",
   "pygments_lexer": "ipython3",
   "version": "3.6.10"
  }
 },
 "nbformat": 4,
 "nbformat_minor": 4
}
